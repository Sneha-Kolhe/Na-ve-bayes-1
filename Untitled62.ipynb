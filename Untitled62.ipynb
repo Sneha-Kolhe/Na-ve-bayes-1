{
 "cells": [
  {
   "cell_type": "markdown",
   "id": "f8e1dbef-0151-43f8-aaf6-1deab237ae0d",
   "metadata": {},
   "source": [
    "## Q1. What is Bayes' theorem?"
   ]
  },
  {
   "cell_type": "code",
   "execution_count": null,
   "id": "f582f89f-2016-4f34-9ce9-0fa9d20b622d",
   "metadata": {},
   "outputs": [],
   "source": [
    "Bayes' theorem, named after the Reverend Thomas Bayes, is a fundamental concept in probability theory and statistics. It describes the probability of an event based on prior knowledge or information. Bayes' theorem is expressed mathematically as:\n",
    "\n",
    "�\n",
    "(\n",
    "�\n",
    "∣\n",
    "�\n",
    ")\n",
    "=\n",
    "�\n",
    "(\n",
    "�\n",
    "∣\n",
    "�\n",
    ")\n",
    "×\n",
    "�\n",
    "(\n",
    "�\n",
    ")\n",
    "�\n",
    "(\n",
    "�\n",
    ")\n",
    "P(A∣B)= \n",
    "P(B)\n",
    "P(B∣A)×P(A)\n",
    "​\n",
    " \n",
    "\n",
    "Where:\n",
    "\n",
    "�\n",
    "(\n",
    "�\n",
    "∣\n",
    "�\n",
    ")\n",
    "P(A∣B) is the conditional probability of event A given that event B has occurred.\n",
    "�\n",
    "(\n",
    "�\n",
    "∣\n",
    "�\n",
    ")\n",
    "P(B∣A) is the conditional probability of event B given that event A has occurred.\n",
    "�\n",
    "(\n",
    "�\n",
    ")\n",
    "P(A) and \n",
    "�\n",
    "(\n",
    "�\n",
    ")\n",
    "P(B) are the probabilities of events A and B occurring independently of each other.\n",
    "Bayes' theorem allows us to update our beliefs or knowledge about the probability of an event A based on new evidence or information provided by event B. It provides a way to incorporate prior knowledge (represented by \n",
    "�\n",
    "(\n",
    "�\n",
    ")\n",
    "P(A)) with new observations (represented by \n",
    "�\n",
    "(\n",
    "�\n",
    "∣\n",
    "�\n",
    ")\n",
    "P(B∣A)) to calculate the updated probability of event A given the occurrence of event B.\n",
    "\n",
    "Bayes' theorem is widely used in various fields, including statistics, machine learning, artificial intelligence, and Bayesian inference. It serves as the foundation for Bayesian statistics and Bayesian inference, where it is used to update probability distributions based on observed data and prior knowledge. It has applications in areas such as medical diagnosis, spam filtering, risk assessment, and predictive modeling."
   ]
  },
  {
   "cell_type": "markdown",
   "id": "729839d2-fdca-4595-8ef7-e784c3576707",
   "metadata": {},
   "source": [
    "## Q2. What is the formula for Bayes' theorem?"
   ]
  },
  {
   "cell_type": "code",
   "execution_count": null,
   "id": "fc2ddedf-bdd9-4f5f-a456-6975d4fc0cb4",
   "metadata": {},
   "outputs": [],
   "source": []
  }
 ],
 "metadata": {
  "kernelspec": {
   "display_name": "Python 3 (ipykernel)",
   "language": "python",
   "name": "python3"
  },
  "language_info": {
   "codemirror_mode": {
    "name": "ipython",
    "version": 3
   },
   "file_extension": ".py",
   "mimetype": "text/x-python",
   "name": "python",
   "nbconvert_exporter": "python",
   "pygments_lexer": "ipython3",
   "version": "3.10.8"
  }
 },
 "nbformat": 4,
 "nbformat_minor": 5
}
